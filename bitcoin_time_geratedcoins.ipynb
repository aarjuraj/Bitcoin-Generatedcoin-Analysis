{
 "cells": [
  {
   "cell_type": "code",
   "execution_count": 1,
   "id": "9562efb8-7c5a-48aa-a3fd-a0b8b4274e7e",
   "metadata": {},
   "outputs": [],
   "source": [
    "import numpy as np\n",
    "import pandas as pd\n",
    "import matplotlib.pyplot as plt"
   ]
  },
  {
   "cell_type": "code",
   "execution_count": 2,
   "id": "2354434b-fbff-4770-870c-69d5e32d9815",
   "metadata": {},
   "outputs": [],
   "source": [
    "df = pd.read_csv(\"bitcoin.csv\")"
   ]
  },
  {
   "cell_type": "code",
   "execution_count": 3,
   "id": "a85546a7-544c-473f-b14a-79b4e5d1a566",
   "metadata": {},
   "outputs": [
    {
     "data": {
      "text/html": [
       "<div>\n",
       "<style scoped>\n",
       "    .dataframe tbody tr th:only-of-type {\n",
       "        vertical-align: middle;\n",
       "    }\n",
       "\n",
       "    .dataframe tbody tr th {\n",
       "        vertical-align: top;\n",
       "    }\n",
       "\n",
       "    .dataframe thead th {\n",
       "        text-align: right;\n",
       "    }\n",
       "</style>\n",
       "<table border=\"1\" class=\"dataframe\">\n",
       "  <thead>\n",
       "    <tr style=\"text-align: right;\">\n",
       "      <th></th>\n",
       "      <th>date</th>\n",
       "      <th>txVolume(USD)</th>\n",
       "      <th>adjustedTxVolume(USD)</th>\n",
       "      <th>txCount</th>\n",
       "      <th>marketcap(USD)</th>\n",
       "      <th>price(USD)</th>\n",
       "      <th>exchangeVolume(USD)</th>\n",
       "      <th>generatedCoins</th>\n",
       "      <th>fees</th>\n",
       "      <th>activeAddresses</th>\n",
       "      <th>averageDifficulty</th>\n",
       "      <th>paymentCount</th>\n",
       "      <th>medianTxValue(USD)</th>\n",
       "      <th>medianFee</th>\n",
       "      <th>blockSize</th>\n",
       "      <th>blockCount</th>\n",
       "    </tr>\n",
       "  </thead>\n",
       "  <tbody>\n",
       "    <tr>\n",
       "      <th>0</th>\n",
       "      <td>2009-01-09</td>\n",
       "      <td>NaN</td>\n",
       "      <td>NaN</td>\n",
       "      <td>0</td>\n",
       "      <td>NaN</td>\n",
       "      <td>NaN</td>\n",
       "      <td>NaN</td>\n",
       "      <td>700.0</td>\n",
       "      <td>0.0</td>\n",
       "      <td>14</td>\n",
       "      <td>1.0</td>\n",
       "      <td>NaN</td>\n",
       "      <td>NaN</td>\n",
       "      <td>NaN</td>\n",
       "      <td>3010</td>\n",
       "      <td>14</td>\n",
       "    </tr>\n",
       "    <tr>\n",
       "      <th>1</th>\n",
       "      <td>2009-01-10</td>\n",
       "      <td>NaN</td>\n",
       "      <td>NaN</td>\n",
       "      <td>0</td>\n",
       "      <td>NaN</td>\n",
       "      <td>NaN</td>\n",
       "      <td>NaN</td>\n",
       "      <td>3050.0</td>\n",
       "      <td>0.0</td>\n",
       "      <td>61</td>\n",
       "      <td>1.0</td>\n",
       "      <td>NaN</td>\n",
       "      <td>NaN</td>\n",
       "      <td>NaN</td>\n",
       "      <td>13129</td>\n",
       "      <td>61</td>\n",
       "    </tr>\n",
       "    <tr>\n",
       "      <th>2</th>\n",
       "      <td>2009-01-11</td>\n",
       "      <td>NaN</td>\n",
       "      <td>NaN</td>\n",
       "      <td>0</td>\n",
       "      <td>NaN</td>\n",
       "      <td>NaN</td>\n",
       "      <td>NaN</td>\n",
       "      <td>4650.0</td>\n",
       "      <td>0.0</td>\n",
       "      <td>93</td>\n",
       "      <td>1.0</td>\n",
       "      <td>NaN</td>\n",
       "      <td>NaN</td>\n",
       "      <td>NaN</td>\n",
       "      <td>20033</td>\n",
       "      <td>93</td>\n",
       "    </tr>\n",
       "    <tr>\n",
       "      <th>3</th>\n",
       "      <td>2009-01-12</td>\n",
       "      <td>NaN</td>\n",
       "      <td>NaN</td>\n",
       "      <td>7</td>\n",
       "      <td>NaN</td>\n",
       "      <td>NaN</td>\n",
       "      <td>NaN</td>\n",
       "      <td>4700.0</td>\n",
       "      <td>0.0</td>\n",
       "      <td>102</td>\n",
       "      <td>1.0</td>\n",
       "      <td>5.0</td>\n",
       "      <td>NaN</td>\n",
       "      <td>0.0</td>\n",
       "      <td>22031</td>\n",
       "      <td>94</td>\n",
       "    </tr>\n",
       "    <tr>\n",
       "      <th>4</th>\n",
       "      <td>2009-01-13</td>\n",
       "      <td>NaN</td>\n",
       "      <td>NaN</td>\n",
       "      <td>0</td>\n",
       "      <td>NaN</td>\n",
       "      <td>NaN</td>\n",
       "      <td>NaN</td>\n",
       "      <td>6150.0</td>\n",
       "      <td>0.0</td>\n",
       "      <td>123</td>\n",
       "      <td>1.0</td>\n",
       "      <td>NaN</td>\n",
       "      <td>NaN</td>\n",
       "      <td>NaN</td>\n",
       "      <td>26527</td>\n",
       "      <td>123</td>\n",
       "    </tr>\n",
       "  </tbody>\n",
       "</table>\n",
       "</div>"
      ],
      "text/plain": [
       "         date  txVolume(USD)  adjustedTxVolume(USD)  txCount  marketcap(USD)  \\\n",
       "0  2009-01-09            NaN                    NaN        0             NaN   \n",
       "1  2009-01-10            NaN                    NaN        0             NaN   \n",
       "2  2009-01-11            NaN                    NaN        0             NaN   \n",
       "3  2009-01-12            NaN                    NaN        7             NaN   \n",
       "4  2009-01-13            NaN                    NaN        0             NaN   \n",
       "\n",
       "   price(USD)  exchangeVolume(USD)  generatedCoins  fees  activeAddresses  \\\n",
       "0         NaN                  NaN           700.0   0.0               14   \n",
       "1         NaN                  NaN          3050.0   0.0               61   \n",
       "2         NaN                  NaN          4650.0   0.0               93   \n",
       "3         NaN                  NaN          4700.0   0.0              102   \n",
       "4         NaN                  NaN          6150.0   0.0              123   \n",
       "\n",
       "   averageDifficulty  paymentCount  medianTxValue(USD)  medianFee  blockSize  \\\n",
       "0                1.0           NaN                 NaN        NaN       3010   \n",
       "1                1.0           NaN                 NaN        NaN      13129   \n",
       "2                1.0           NaN                 NaN        NaN      20033   \n",
       "3                1.0           5.0                 NaN        0.0      22031   \n",
       "4                1.0           NaN                 NaN        NaN      26527   \n",
       "\n",
       "   blockCount  \n",
       "0          14  \n",
       "1          61  \n",
       "2          93  \n",
       "3          94  \n",
       "4         123  "
      ]
     },
     "execution_count": 3,
     "metadata": {},
     "output_type": "execute_result"
    }
   ],
   "source": [
    "df.head()"
   ]
  },
  {
   "cell_type": "code",
   "execution_count": 4,
   "id": "90e0a3da-fba1-40a8-8753-95bec7e73fd2",
   "metadata": {},
   "outputs": [
    {
     "data": {
      "text/html": [
       "<div>\n",
       "<style scoped>\n",
       "    .dataframe tbody tr th:only-of-type {\n",
       "        vertical-align: middle;\n",
       "    }\n",
       "\n",
       "    .dataframe tbody tr th {\n",
       "        vertical-align: top;\n",
       "    }\n",
       "\n",
       "    .dataframe thead th {\n",
       "        text-align: right;\n",
       "    }\n",
       "</style>\n",
       "<table border=\"1\" class=\"dataframe\">\n",
       "  <thead>\n",
       "    <tr style=\"text-align: right;\">\n",
       "      <th></th>\n",
       "      <th>txVolume(USD)</th>\n",
       "      <th>adjustedTxVolume(USD)</th>\n",
       "      <th>txCount</th>\n",
       "      <th>marketcap(USD)</th>\n",
       "      <th>price(USD)</th>\n",
       "      <th>exchangeVolume(USD)</th>\n",
       "      <th>generatedCoins</th>\n",
       "      <th>fees</th>\n",
       "      <th>activeAddresses</th>\n",
       "      <th>averageDifficulty</th>\n",
       "      <th>paymentCount</th>\n",
       "      <th>medianTxValue(USD)</th>\n",
       "      <th>medianFee</th>\n",
       "      <th>blockSize</th>\n",
       "      <th>blockCount</th>\n",
       "    </tr>\n",
       "  </thead>\n",
       "  <tbody>\n",
       "    <tr>\n",
       "      <th>count</th>\n",
       "      <td>2.035000e+03</td>\n",
       "      <td>2.035000e+03</td>\n",
       "      <td>3605.000000</td>\n",
       "      <td>2.035000e+03</td>\n",
       "      <td>2035.000000</td>\n",
       "      <td>2.035000e+03</td>\n",
       "      <td>3605.000000</td>\n",
       "      <td>3605.000000</td>\n",
       "      <td>3.605000e+03</td>\n",
       "      <td>3.605000e+03</td>\n",
       "      <td>3.351000e+03</td>\n",
       "      <td>2035.000000</td>\n",
       "      <td>3351.000000</td>\n",
       "      <td>3.605000e+03</td>\n",
       "      <td>3605.000000</td>\n",
       "    </tr>\n",
       "    <tr>\n",
       "      <th>mean</th>\n",
       "      <td>2.735073e+09</td>\n",
       "      <td>1.139493e+09</td>\n",
       "      <td>99431.565326</td>\n",
       "      <td>3.771208e+10</td>\n",
       "      <td>2279.330865</td>\n",
       "      <td>1.434180e+09</td>\n",
       "      <td>4823.539125</td>\n",
       "      <td>51.504402</td>\n",
       "      <td>2.515554e+05</td>\n",
       "      <td>5.532081e+11</td>\n",
       "      <td>1.806366e+05</td>\n",
       "      <td>177.112048</td>\n",
       "      <td>0.000489</td>\n",
       "      <td>5.346078e+07</td>\n",
       "      <td>152.877115</td>\n",
       "    </tr>\n",
       "    <tr>\n",
       "      <th>std</th>\n",
       "      <td>5.160649e+09</td>\n",
       "      <td>1.970668e+09</td>\n",
       "      <td>104559.375595</td>\n",
       "      <td>5.861474e+10</td>\n",
       "      <td>3442.946652</td>\n",
       "      <td>3.035095e+09</td>\n",
       "      <td>2817.834929</td>\n",
       "      <td>107.765355</td>\n",
       "      <td>2.855449e+05</td>\n",
       "      <td>1.485977e+12</td>\n",
       "      <td>1.806980e+05</td>\n",
       "      <td>342.486667</td>\n",
       "      <td>0.006475</td>\n",
       "      <td>5.583618e+07</td>\n",
       "      <td>37.558325</td>\n",
       "    </tr>\n",
       "    <tr>\n",
       "      <th>min</th>\n",
       "      <td>3.287234e+07</td>\n",
       "      <td>2.053871e+07</td>\n",
       "      <td>0.000000</td>\n",
       "      <td>7.794864e+08</td>\n",
       "      <td>68.500000</td>\n",
       "      <td>0.000000e+00</td>\n",
       "      <td>200.000000</td>\n",
       "      <td>0.000000</td>\n",
       "      <td>4.000000e+00</td>\n",
       "      <td>1.000000e+00</td>\n",
       "      <td>0.000000e+00</td>\n",
       "      <td>0.024145</td>\n",
       "      <td>0.000000</td>\n",
       "      <td>8.600000e+02</td>\n",
       "      <td>4.000000</td>\n",
       "    </tr>\n",
       "    <tr>\n",
       "      <th>25%</th>\n",
       "      <td>2.523401e+08</td>\n",
       "      <td>1.027608e+08</td>\n",
       "      <td>5183.000000</td>\n",
       "      <td>4.380106e+09</td>\n",
       "      <td>320.220000</td>\n",
       "      <td>1.866320e+07</td>\n",
       "      <td>2412.500000</td>\n",
       "      <td>3.911432</td>\n",
       "      <td>1.198300e+04</td>\n",
       "      <td>1.090716e+06</td>\n",
       "      <td>1.008550e+04</td>\n",
       "      <td>51.360193</td>\n",
       "      <td>0.000000</td>\n",
       "      <td>2.274111e+06</td>\n",
       "      <td>138.000000</td>\n",
       "    </tr>\n",
       "    <tr>\n",
       "      <th>50%</th>\n",
       "      <td>7.898199e+08</td>\n",
       "      <td>2.824168e+08</td>\n",
       "      <td>59615.000000</td>\n",
       "      <td>8.121197e+09</td>\n",
       "      <td>596.330000</td>\n",
       "      <td>5.785860e+07</td>\n",
       "      <td>4049.997500</td>\n",
       "      <td>17.442879</td>\n",
       "      <td>1.329290e+05</td>\n",
       "      <td>9.083509e+08</td>\n",
       "      <td>1.313040e+05</td>\n",
       "      <td>76.016323</td>\n",
       "      <td>0.000100</td>\n",
       "      <td>3.072236e+07</td>\n",
       "      <td>153.000000</td>\n",
       "    </tr>\n",
       "    <tr>\n",
       "      <th>75%</th>\n",
       "      <td>3.428363e+09</td>\n",
       "      <td>1.557028e+09</td>\n",
       "      <td>194607.000000</td>\n",
       "      <td>4.237367e+10</td>\n",
       "      <td>2575.190000</td>\n",
       "      <td>1.180765e+09</td>\n",
       "      <td>6850.000000</td>\n",
       "      <td>43.215072</td>\n",
       "      <td>4.845470e+05</td>\n",
       "      <td>1.960614e+11</td>\n",
       "      <td>3.342495e+05</td>\n",
       "      <td>192.290392</td>\n",
       "      <td>0.000369</td>\n",
       "      <td>1.082456e+08</td>\n",
       "      <td>168.000000</td>\n",
       "    </tr>\n",
       "    <tr>\n",
       "      <th>max</th>\n",
       "      <td>4.835307e+10</td>\n",
       "      <td>1.624809e+10</td>\n",
       "      <td>490459.000000</td>\n",
       "      <td>3.261873e+11</td>\n",
       "      <td>19475.800000</td>\n",
       "      <td>2.384090e+10</td>\n",
       "      <td>34600.000000</td>\n",
       "      <td>1495.946477</td>\n",
       "      <td>1.283929e+06</td>\n",
       "      <td>7.454969e+12</td>\n",
       "      <td>1.883744e+06</td>\n",
       "      <td>4176.310572</td>\n",
       "      <td>0.220000</td>\n",
       "      <td>2.040237e+08</td>\n",
       "      <td>692.000000</td>\n",
       "    </tr>\n",
       "  </tbody>\n",
       "</table>\n",
       "</div>"
      ],
      "text/plain": [
       "       txVolume(USD)  adjustedTxVolume(USD)        txCount  marketcap(USD)  \\\n",
       "count   2.035000e+03           2.035000e+03    3605.000000    2.035000e+03   \n",
       "mean    2.735073e+09           1.139493e+09   99431.565326    3.771208e+10   \n",
       "std     5.160649e+09           1.970668e+09  104559.375595    5.861474e+10   \n",
       "min     3.287234e+07           2.053871e+07       0.000000    7.794864e+08   \n",
       "25%     2.523401e+08           1.027608e+08    5183.000000    4.380106e+09   \n",
       "50%     7.898199e+08           2.824168e+08   59615.000000    8.121197e+09   \n",
       "75%     3.428363e+09           1.557028e+09  194607.000000    4.237367e+10   \n",
       "max     4.835307e+10           1.624809e+10  490459.000000    3.261873e+11   \n",
       "\n",
       "         price(USD)  exchangeVolume(USD)  generatedCoins         fees  \\\n",
       "count   2035.000000         2.035000e+03     3605.000000  3605.000000   \n",
       "mean    2279.330865         1.434180e+09     4823.539125    51.504402   \n",
       "std     3442.946652         3.035095e+09     2817.834929   107.765355   \n",
       "min       68.500000         0.000000e+00      200.000000     0.000000   \n",
       "25%      320.220000         1.866320e+07     2412.500000     3.911432   \n",
       "50%      596.330000         5.785860e+07     4049.997500    17.442879   \n",
       "75%     2575.190000         1.180765e+09     6850.000000    43.215072   \n",
       "max    19475.800000         2.384090e+10    34600.000000  1495.946477   \n",
       "\n",
       "       activeAddresses  averageDifficulty  paymentCount  medianTxValue(USD)  \\\n",
       "count     3.605000e+03       3.605000e+03  3.351000e+03         2035.000000   \n",
       "mean      2.515554e+05       5.532081e+11  1.806366e+05          177.112048   \n",
       "std       2.855449e+05       1.485977e+12  1.806980e+05          342.486667   \n",
       "min       4.000000e+00       1.000000e+00  0.000000e+00            0.024145   \n",
       "25%       1.198300e+04       1.090716e+06  1.008550e+04           51.360193   \n",
       "50%       1.329290e+05       9.083509e+08  1.313040e+05           76.016323   \n",
       "75%       4.845470e+05       1.960614e+11  3.342495e+05          192.290392   \n",
       "max       1.283929e+06       7.454969e+12  1.883744e+06         4176.310572   \n",
       "\n",
       "         medianFee     blockSize   blockCount  \n",
       "count  3351.000000  3.605000e+03  3605.000000  \n",
       "mean      0.000489  5.346078e+07   152.877115  \n",
       "std       0.006475  5.583618e+07    37.558325  \n",
       "min       0.000000  8.600000e+02     4.000000  \n",
       "25%       0.000000  2.274111e+06   138.000000  \n",
       "50%       0.000100  3.072236e+07   153.000000  \n",
       "75%       0.000369  1.082456e+08   168.000000  \n",
       "max       0.220000  2.040237e+08   692.000000  "
      ]
     },
     "execution_count": 4,
     "metadata": {},
     "output_type": "execute_result"
    }
   ],
   "source": [
    "df.describe()"
   ]
  },
  {
   "cell_type": "code",
   "execution_count": 5,
   "id": "97dec14c-3fc6-42c8-998e-f0625d72a908",
   "metadata": {},
   "outputs": [
    {
     "data": {
      "text/plain": [
       "Index(['date', 'txVolume(USD)', 'adjustedTxVolume(USD)', 'txCount',\n",
       "       'marketcap(USD)', 'price(USD)', 'exchangeVolume(USD)', 'generatedCoins',\n",
       "       'fees', 'activeAddresses', 'averageDifficulty', 'paymentCount',\n",
       "       'medianTxValue(USD)', 'medianFee', 'blockSize', 'blockCount'],\n",
       "      dtype='object')"
      ]
     },
     "execution_count": 5,
     "metadata": {},
     "output_type": "execute_result"
    }
   ],
   "source": [
    "df.columns"
   ]
  },
  {
   "cell_type": "code",
   "execution_count": 6,
   "id": "6e86da56-3d1b-42f5-995c-6679c811f8cd",
   "metadata": {},
   "outputs": [],
   "source": [
    "df=df.dropna(axis=1)\n",
    "df=df.dropna(axis=0)"
   ]
  },
  {
   "cell_type": "code",
   "execution_count": 7,
   "id": "a05df26f-a486-4e58-9ce0-98d20f2efe13",
   "metadata": {},
   "outputs": [
    {
     "data": {
      "text/html": [
       "<div>\n",
       "<style scoped>\n",
       "    .dataframe tbody tr th:only-of-type {\n",
       "        vertical-align: middle;\n",
       "    }\n",
       "\n",
       "    .dataframe tbody tr th {\n",
       "        vertical-align: top;\n",
       "    }\n",
       "\n",
       "    .dataframe thead th {\n",
       "        text-align: right;\n",
       "    }\n",
       "</style>\n",
       "<table border=\"1\" class=\"dataframe\">\n",
       "  <thead>\n",
       "    <tr style=\"text-align: right;\">\n",
       "      <th></th>\n",
       "      <th>date</th>\n",
       "      <th>txCount</th>\n",
       "      <th>generatedCoins</th>\n",
       "      <th>fees</th>\n",
       "      <th>activeAddresses</th>\n",
       "      <th>averageDifficulty</th>\n",
       "      <th>blockSize</th>\n",
       "      <th>blockCount</th>\n",
       "    </tr>\n",
       "  </thead>\n",
       "  <tbody>\n",
       "    <tr>\n",
       "      <th>0</th>\n",
       "      <td>2009-01-09</td>\n",
       "      <td>0</td>\n",
       "      <td>700.0</td>\n",
       "      <td>0.0</td>\n",
       "      <td>14</td>\n",
       "      <td>1.0</td>\n",
       "      <td>3010</td>\n",
       "      <td>14</td>\n",
       "    </tr>\n",
       "    <tr>\n",
       "      <th>1</th>\n",
       "      <td>2009-01-10</td>\n",
       "      <td>0</td>\n",
       "      <td>3050.0</td>\n",
       "      <td>0.0</td>\n",
       "      <td>61</td>\n",
       "      <td>1.0</td>\n",
       "      <td>13129</td>\n",
       "      <td>61</td>\n",
       "    </tr>\n",
       "    <tr>\n",
       "      <th>2</th>\n",
       "      <td>2009-01-11</td>\n",
       "      <td>0</td>\n",
       "      <td>4650.0</td>\n",
       "      <td>0.0</td>\n",
       "      <td>93</td>\n",
       "      <td>1.0</td>\n",
       "      <td>20033</td>\n",
       "      <td>93</td>\n",
       "    </tr>\n",
       "    <tr>\n",
       "      <th>3</th>\n",
       "      <td>2009-01-12</td>\n",
       "      <td>7</td>\n",
       "      <td>4700.0</td>\n",
       "      <td>0.0</td>\n",
       "      <td>102</td>\n",
       "      <td>1.0</td>\n",
       "      <td>22031</td>\n",
       "      <td>94</td>\n",
       "    </tr>\n",
       "    <tr>\n",
       "      <th>4</th>\n",
       "      <td>2009-01-13</td>\n",
       "      <td>0</td>\n",
       "      <td>6150.0</td>\n",
       "      <td>0.0</td>\n",
       "      <td>123</td>\n",
       "      <td>1.0</td>\n",
       "      <td>26527</td>\n",
       "      <td>123</td>\n",
       "    </tr>\n",
       "  </tbody>\n",
       "</table>\n",
       "</div>"
      ],
      "text/plain": [
       "         date  txCount  generatedCoins  fees  activeAddresses  \\\n",
       "0  2009-01-09        0           700.0   0.0               14   \n",
       "1  2009-01-10        0          3050.0   0.0               61   \n",
       "2  2009-01-11        0          4650.0   0.0               93   \n",
       "3  2009-01-12        7          4700.0   0.0              102   \n",
       "4  2009-01-13        0          6150.0   0.0              123   \n",
       "\n",
       "   averageDifficulty  blockSize  blockCount  \n",
       "0                1.0       3010          14  \n",
       "1                1.0      13129          61  \n",
       "2                1.0      20033          93  \n",
       "3                1.0      22031          94  \n",
       "4                1.0      26527         123  "
      ]
     },
     "execution_count": 7,
     "metadata": {},
     "output_type": "execute_result"
    }
   ],
   "source": [
    "df.head()"
   ]
  },
  {
   "cell_type": "code",
   "execution_count": 8,
   "id": "c3c72bed-7a86-49d7-bb1d-772a3cb1f625",
   "metadata": {},
   "outputs": [],
   "source": [
    "df=df.sort_values(by=['date'], ascending=False)"
   ]
  },
  {
   "cell_type": "code",
   "execution_count": 9,
   "id": "261b52ae-1a01-437f-80a3-3c63a9f6e855",
   "metadata": {},
   "outputs": [
    {
     "data": {
      "text/plain": [
       "<BarContainer object of 3605 artists>"
      ]
     },
     "execution_count": 9,
     "metadata": {},
     "output_type": "execute_result"
    },
    {
     "data": {
      "image/png": "[encoded data removed]",
      "text/plain": [
       "<Figure size 432x288 with 1 Axes>"
      ]
     },
     "metadata": {
      "needs_background": "light"
     },
     "output_type": "display_data"
    }
   ],
   "source": [
    "ax = plt.subplot()\n",
    "ax.bar(df[\"date\"], df[\"generatedCoins\"])"
   ]
  },
  {
   "cell_type": "code",
   "execution_count": 10,
   "id": "51302566-8876-4a2d-96c2-7fad2128bdeb",
   "metadata": {},
   "outputs": [
    {
     "data": {
      "image/png": "[encoded data removed]",
      "text/plain": [
       "<Figure size 432x288 with 1 Axes>"
      ]
     },
     "metadata": {
      "needs_background": "light"
     },
     "output_type": "display_data"
    }
   ],
   "source": [
    "df.plot.scatter(y = 'date', x = 'generatedCoins', s = 'generatedCoins', c = 'red');"
   ]
  },
  {
   "cell_type": "code",
   "execution_count": 11,
   "id": "eda0aec4-d6f4-4638-b325-d741a658c38f",
   "metadata": {},
   "outputs": [
    {
     "data": {
      "image/png": "[encoded data removed]",
      "text/plain": [
       "<Figure size 432x288 with 1 Axes>"
      ]
     },
     "metadata": {
      "needs_background": "light"
     },
     "output_type": "display_data"
    }
   ],
   "source": [
    "df.plot.scatter(y = 'blockSize', x = 'generatedCoins', s = 'blockSize', c = 'green');"
   ]
  },
  {
   "cell_type": "code",
   "execution_count": 12,
   "id": "347d34a9-f694-4714-a961-d6dc82aece40",
   "metadata": {},
   "outputs": [
    {
     "data": {
      "image/png": "[encoded data removed]",
      "text/plain": [
       "<Figure size 432x288 with 1 Axes>"
      ]
     },
     "metadata": {
      "needs_background": "light"
     },
     "output_type": "display_data"
    }
   ],
   "source": [
    "df.plot.scatter(y = 'date', x = 'generatedCoins');"
   ]
  },
  {
   "cell_type": "code",
   "execution_count": 13,
   "id": "8d949fb1-f07c-4b56-ac69-d91946ac5085",
   "metadata": {},
   "outputs": [
    {
     "data": {
      "image/png": "[encoded data removed]",
      "text/plain": [
       "<Figure size 432x288 with 1 Axes>"
      ]
     },
     "metadata": {
      "needs_background": "light"
     },
     "output_type": "display_data"
    }
   ],
   "source": [
    "df.plot.scatter(y = 'activeAddresses', x = 'blockCount');"
   ]
  },
  {
   "cell_type": "code",
   "execution_count": null,
   "id": "2a1dd542-99ce-4ce3-b179-bcdf7f3ac16e",
   "metadata": {},
   "outputs": [],
   "source": []
  }
 ],
 "metadata": {
  "kernelspec": {
   "display_name": "Python 3 (ipykernel)",
   "language": "python",
   "name": "python3"
  },
  "language_info": {
   "codemirror_mode": {
    "name": "ipython",
    "version": 3
   },
   "file_extension": ".py",
   "mimetype": "text/x-python",
   "name": "python",
   "nbconvert_exporter": "python",
   "pygments_lexer": "ipython3",
   "version": "3.9.7"
  }
 },
 "nbformat": 4,
 "nbformat_minor": 5
}
